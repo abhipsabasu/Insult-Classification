{
  "nbformat": 4,
  "nbformat_minor": 0,
  "metadata": {
    "colab": {
      "name": "insult classification.ipynb",
      "provenance": [],
      "collapsed_sections": [],
      "machine_shape": "hm"
    },
    "kernelspec": {
      "name": "python3",
      "display_name": "Python 3"
    },
    "accelerator": "GPU"
  },
  "cells": [
    {
      "cell_type": "code",
      "metadata": {
        "id": "8VqGujA8-nXC",
        "colab_type": "code",
        "colab": {
          "base_uri": "https://localhost:8080/",
          "height": 35
        },
        "outputId": "ab4f0201-009b-49bd-98d6-99e60d577bb5"
      },
      "source": [
        "from google.colab import drive\n",
        "\n",
        "drive.mount('/content/gdrive', force_remount = True)\n",
        "dataset_path = 'gdrive/My Drive/Deep Learning/Insult classification/'"
      ],
      "execution_count": null,
      "outputs": [
        {
          "output_type": "stream",
          "text": [
            "Mounted at /content/gdrive\n"
          ],
          "name": "stdout"
        }
      ]
    },
    {
      "cell_type": "code",
      "metadata": {
        "id": "KVdpKe6B-8ZF",
        "colab_type": "code",
        "colab": {}
      },
      "source": [
        "!unzip -q \"gdrive/My Drive/Deep Learning/Insult classification/phase2.zip\" -d \"gdrive/My Drive/Deep Learning/Insult classification/phase2\" "
      ],
      "execution_count": null,
      "outputs": []
    },
    {
      "cell_type": "code",
      "metadata": {
        "id": "RA_YZPDe_XS1",
        "colab_type": "code",
        "colab": {}
      },
      "source": [
        "dataset_path = dataset_path + \"phase2/phaseII/\""
      ],
      "execution_count": null,
      "outputs": []
    },
    {
      "cell_type": "code",
      "metadata": {
        "id": "glAzUKzW_0kT",
        "colab_type": "code",
        "colab": {}
      },
      "source": [
        "import pandas as pd\n",
        "import numpy as np\n",
        "df_train = pd.read_csv(dataset_path+'train_text.csv')\n",
        "df_test = pd.read_csv(dataset_path+'test_text.csv')"
      ],
      "execution_count": null,
      "outputs": []
    },
    {
      "cell_type": "code",
      "metadata": {
        "id": "PP96Fv9wAEV4",
        "colab_type": "code",
        "colab": {
          "base_uri": "https://localhost:8080/",
          "height": 202
        },
        "outputId": "341500cc-db8c-44cd-b8cd-6a42253b9da3"
      },
      "source": [
        "df_train.head()"
      ],
      "execution_count": null,
      "outputs": [
        {
          "output_type": "execute_result",
          "data": {
            "text/html": [
              "<div>\n",
              "<style scoped>\n",
              "    .dataframe tbody tr th:only-of-type {\n",
              "        vertical-align: middle;\n",
              "    }\n",
              "\n",
              "    .dataframe tbody tr th {\n",
              "        vertical-align: top;\n",
              "    }\n",
              "\n",
              "    .dataframe thead th {\n",
              "        text-align: right;\n",
              "    }\n",
              "</style>\n",
              "<table border=\"1\" class=\"dataframe\">\n",
              "  <thead>\n",
              "    <tr style=\"text-align: right;\">\n",
              "      <th></th>\n",
              "      <th>id</th>\n",
              "      <th>Comment</th>\n",
              "      <th>Target</th>\n",
              "    </tr>\n",
              "  </thead>\n",
              "  <tbody>\n",
              "    <tr>\n",
              "      <th>0</th>\n",
              "      <td>143508</td>\n",
              "      <td>I just did a geolocate.  Having your friends d...</td>\n",
              "      <td>0</td>\n",
              "    </tr>\n",
              "    <tr>\n",
              "      <th>1</th>\n",
              "      <td>162092</td>\n",
              "      <td>Thank you ). All the best, Tally-ho!</td>\n",
              "      <td>0</td>\n",
              "    </tr>\n",
              "    <tr>\n",
              "      <th>2</th>\n",
              "      <td>213301</td>\n",
              "      <td>Here are a couple of recent thank yous OPs, fo...</td>\n",
              "      <td>0</td>\n",
              "    </tr>\n",
              "    <tr>\n",
              "      <th>3</th>\n",
              "      <td>143415</td>\n",
              "      <td>: \\n That is an excellent choice and I am happ...</td>\n",
              "      <td>0</td>\n",
              "    </tr>\n",
              "    <tr>\n",
              "      <th>4</th>\n",
              "      <td>285402</td>\n",
              "      <td>Можешь говорить по русски.</td>\n",
              "      <td>0</td>\n",
              "    </tr>\n",
              "  </tbody>\n",
              "</table>\n",
              "</div>"
            ],
            "text/plain": [
              "       id                                            Comment  Target\n",
              "0  143508  I just did a geolocate.  Having your friends d...       0\n",
              "1  162092               Thank you ). All the best, Tally-ho!       0\n",
              "2  213301  Here are a couple of recent thank yous OPs, fo...       0\n",
              "3  143415  : \\n That is an excellent choice and I am happ...       0\n",
              "4  285402                         Можешь говорить по русски.       0"
            ]
          },
          "metadata": {
            "tags": []
          },
          "execution_count": 6
        }
      ]
    },
    {
      "cell_type": "code",
      "metadata": {
        "id": "2xZfZ8JhAyro",
        "colab_type": "code",
        "colab": {}
      },
      "source": [
        "train_X, train_Y = df_train[\"Comment\"].values, df_train[\"Target\"].values"
      ],
      "execution_count": null,
      "outputs": []
    },
    {
      "cell_type": "code",
      "metadata": {
        "id": "Ssd1jCbpTQmI",
        "colab_type": "code",
        "colab": {
          "base_uri": "https://localhost:8080/",
          "height": 202
        },
        "outputId": "113555c4-deca-455e-926e-ded89687151e"
      },
      "source": [
        "df_test.head()"
      ],
      "execution_count": null,
      "outputs": [
        {
          "output_type": "execute_result",
          "data": {
            "text/html": [
              "<div>\n",
              "<style scoped>\n",
              "    .dataframe tbody tr th:only-of-type {\n",
              "        vertical-align: middle;\n",
              "    }\n",
              "\n",
              "    .dataframe tbody tr th {\n",
              "        vertical-align: top;\n",
              "    }\n",
              "\n",
              "    .dataframe thead th {\n",
              "        text-align: right;\n",
              "    }\n",
              "</style>\n",
              "<table border=\"1\" class=\"dataframe\">\n",
              "  <thead>\n",
              "    <tr style=\"text-align: right;\">\n",
              "      <th></th>\n",
              "      <th>id</th>\n",
              "      <th>Comment</th>\n",
              "    </tr>\n",
              "  </thead>\n",
              "  <tbody>\n",
              "    <tr>\n",
              "      <th>0</th>\n",
              "      <td>163224</td>\n",
              "      <td>: Maybe they want, but they aren't. I have quo...</td>\n",
              "    </tr>\n",
              "    <tr>\n",
              "      <th>1</th>\n",
              "      <td>248651</td>\n",
              "      <td>If you are curious about the issue it was disc...</td>\n",
              "    </tr>\n",
              "    <tr>\n",
              "      <th>2</th>\n",
              "      <td>210814</td>\n",
              "      <td>::Haha, your desysop is in the mail! Yes, and ...</td>\n",
              "    </tr>\n",
              "    <tr>\n",
              "      <th>3</th>\n",
              "      <td>118578</td>\n",
              "      <td>REDIRECT Talk:Communications and media in Sara...</td>\n",
              "    </tr>\n",
              "    <tr>\n",
              "      <th>4</th>\n",
              "      <td>228447</td>\n",
              "      <td>::::::::I know you mean to help, but I wholly ...</td>\n",
              "    </tr>\n",
              "  </tbody>\n",
              "</table>\n",
              "</div>"
            ],
            "text/plain": [
              "       id                                            Comment\n",
              "0  163224  : Maybe they want, but they aren't. I have quo...\n",
              "1  248651  If you are curious about the issue it was disc...\n",
              "2  210814  ::Haha, your desysop is in the mail! Yes, and ...\n",
              "3  118578  REDIRECT Talk:Communications and media in Sara...\n",
              "4  228447  ::::::::I know you mean to help, but I wholly ..."
            ]
          },
          "metadata": {
            "tags": []
          },
          "execution_count": 13
        }
      ]
    },
    {
      "cell_type": "code",
      "metadata": {
        "id": "uyM06_tTSb2c",
        "colab_type": "code",
        "colab": {}
      },
      "source": [
        "test_X = df_test[\"Comment\"].values"
      ],
      "execution_count": null,
      "outputs": []
    },
    {
      "cell_type": "code",
      "metadata": {
        "id": "6ihPbMp-TEAJ",
        "colab_type": "code",
        "colab": {}
      },
      "source": [
        "import string\n",
        "from nltk.tokenize import word_tokenize\n",
        "from nltk.corpus import stopwords\n",
        "\n",
        "comment = []\n",
        "lines = df_train[\"Comment\"].values.tolist()"
      ],
      "execution_count": null,
      "outputs": []
    },
    {
      "cell_type": "code",
      "metadata": {
        "id": "tgeQ2d3ETm6x",
        "colab_type": "code",
        "colab": {
          "base_uri": "https://localhost:8080/",
          "height": 139
        },
        "outputId": "4f62f53f-de8f-4f45-b4ff-942189b5bada"
      },
      "source": [
        "import nltk\n",
        "nltk.download('punkt')\n",
        "nltk.download('stopwords')\n",
        "nltk.download('wordnet')"
      ],
      "execution_count": null,
      "outputs": [
        {
          "output_type": "stream",
          "text": [
            "[nltk_data] Downloading package punkt to /root/nltk_data...\n",
            "[nltk_data]   Package punkt is already up-to-date!\n",
            "[nltk_data] Downloading package stopwords to /root/nltk_data...\n",
            "[nltk_data]   Package stopwords is already up-to-date!\n",
            "[nltk_data] Downloading package wordnet to /root/nltk_data...\n",
            "[nltk_data]   Package wordnet is already up-to-date!\n"
          ],
          "name": "stdout"
        },
        {
          "output_type": "execute_result",
          "data": {
            "text/plain": [
              "True"
            ]
          },
          "metadata": {
            "tags": []
          },
          "execution_count": 8
        }
      ]
    },
    {
      "cell_type": "code",
      "metadata": {
        "id": "wGupYKMsTprQ",
        "colab_type": "code",
        "colab": {}
      },
      "source": [
        "from nltk.stem import WordNetLemmatizer\n",
        "wordnet_lemmatizer = WordNetLemmatizer()\n",
        "reviews = []\n",
        "Y = train_Y\n",
        "for line in lines:\n",
        "  lst = line.split()\n",
        "  lst = list(set(lst))\n",
        "  line = ' '.join(lst)\n",
        "  try:\n",
        "    token = word_tokenize(line)\n",
        "  except Exception as e:\n",
        "    continue\n",
        "  lower_token = [w.lower() for w in token]\n",
        "  table = str.maketrans('','',string.punctuation)\n",
        "  stripped = [w.translate(table) for w in lower_token]\n",
        "  alpha_words = [w for w in stripped if w.isalpha()]\n",
        "  #stop_words = set(stopwords.words('english'))\n",
        "  #final_words = [w for w in alpha_words if w not in stop_words]\n",
        "  #lemmatized_words = [wordnet_lemmatizer.lemmatize(word) for word in final_words]\n",
        "  reviews.append(alpha_words)"
      ],
      "execution_count": null,
      "outputs": []
    },
    {
      "cell_type": "code",
      "metadata": {
        "id": "JE0yQEK2XbFa",
        "colab_type": "code",
        "colab": {}
      },
      "source": [
        "test_reviews = []\n",
        "test_lines = df_test[\"Comment\"].values.tolist()\n",
        "#Y_t = test_Y\n",
        "for i,line in enumerate(test_lines):\n",
        "  lst = line.split()\n",
        "  lst = list(set(lst))\n",
        "  line = ' '.join(lst)\n",
        "  try:\n",
        "    token = word_tokenize(line)\n",
        "  except Exception as e:\n",
        "    #Y_t = np.delete(Y_t,i)\n",
        "    continue\n",
        "  lower_token = [w.lower() for w in token]\n",
        "  table = str.maketrans('','',string.punctuation)\n",
        "  stripped = [w.translate(table) for w in lower_token]\n",
        "  alpha_words = [w for w in stripped if w.isalpha()]\n",
        "  '''stop_words = set(stopwords.words('english'))\n",
        "  final_words = [w for w in alpha_words if w not in stop_words]\n",
        "  lemmatized_words = [wordnet_lemmatizer.lemmatize(word) for word in final_words]'''\n",
        "  #lst = list(set(lemmatized_words))\n",
        "  test_reviews.append(alpha_words)"
      ],
      "execution_count": null,
      "outputs": []
    },
    {
      "cell_type": "code",
      "metadata": {
        "id": "Hxqh0Md6Y3mL",
        "colab_type": "code",
        "colab": {}
      },
      "source": [
        "embeddings_index = dict()\n",
        "f = open('gdrive/My Drive/Deep Learning/Insult classification/glove.840B.300d.txt')\n",
        "for line in f:\n",
        "    values = line.split()\n",
        "    word = values[0]\n",
        "    try:\n",
        "      coefs = np.asarray(values[1:],dtype='float32')\n",
        "      embeddings_index[word] = coefs\n",
        "    except:\n",
        "      continue\n",
        "f.close()\n"
      ],
      "execution_count": null,
      "outputs": []
    },
    {
      "cell_type": "code",
      "metadata": {
        "id": "Dipt-2WoZxt8",
        "colab_type": "code",
        "colab": {}
      },
      "source": [
        "from tensorflow.python.keras.preprocessing.text import Tokenizer\n",
        "from tensorflow.python.keras.preprocessing.sequence import pad_sequences"
      ],
      "execution_count": null,
      "outputs": []
    },
    {
      "cell_type": "code",
      "metadata": {
        "id": "eWbY5O47mn1r",
        "colab_type": "code",
        "colab": {
          "base_uri": "https://localhost:8080/",
          "height": 35
        },
        "outputId": "8df793fe-2080-4c4c-bbf4-d8e288c7a218"
      },
      "source": [
        "reviews[0]"
      ],
      "execution_count": null,
      "outputs": [
        {
          "output_type": "execute_result",
          "data": {
            "text/plain": [
              "'geolocate meatpuppet something friend'"
            ]
          },
          "metadata": {
            "tags": []
          },
          "execution_count": 53
        }
      ]
    },
    {
      "cell_type": "code",
      "metadata": {
        "id": "l6bG3Gj1sjwq",
        "colab_type": "code",
        "colab": {}
      },
      "source": [
        "final_data = [' '.join(x) for x in reviews] + [' '.join(x) for x in test_reviews]"
      ],
      "execution_count": null,
      "outputs": []
    },
    {
      "cell_type": "code",
      "metadata": {
        "id": "1O248S8we3Lb",
        "colab_type": "code",
        "colab": {}
      },
      "source": [
        "tokenizer_obj = Tokenizer()\n",
        "tokenizer_obj.fit_on_texts(test_reviews+reviews)\n",
        "sequences = tokenizer_obj.texts_to_sequences(reviews)\n",
        "word_index = tokenizer_obj.word_index\n",
        "max_length= max([len(str(s).split()) for s in final_data])\n",
        "review_pad = pad_sequences(sequences,maxlen= max_length)"
      ],
      "execution_count": null,
      "outputs": []
    },
    {
      "cell_type": "code",
      "metadata": {
        "id": "ML3bQRiuggG6",
        "colab_type": "code",
        "colab": {
          "base_uri": "https://localhost:8080/",
          "height": 35
        },
        "outputId": "69a5342b-1a75-4a92-fc5e-8a82ce1a60c4"
      },
      "source": [
        "print(max_length)\n",
        "num_words = len(word_index)+1"
      ],
      "execution_count": null,
      "outputs": [
        {
          "output_type": "stream",
          "text": [
            "583\n"
          ],
          "name": "stdout"
        }
      ]
    },
    {
      "cell_type": "code",
      "metadata": {
        "id": "-wMULOKhe5gm",
        "colab_type": "code",
        "colab": {}
      },
      "source": [
        "num_words = len(word_index)+1\n",
        "EMBEDDING_DIM = 300\n",
        "embedding_matrix = np.zeros((num_words,EMBEDDING_DIM))\n",
        "for word,i in word_index.items():\n",
        "  if i> num_words:\n",
        "    continue\n",
        "  embedding_vector = embeddings_index.get(word)\n",
        "  if embedding_vector is not None:\n",
        "    embedding_matrix[i] = embedding_vector"
      ],
      "execution_count": null,
      "outputs": []
    },
    {
      "cell_type": "code",
      "metadata": {
        "id": "tL47_8Y4895a",
        "colab_type": "code",
        "colab": {}
      },
      "source": [
        "from keras.models import *\n",
        "from keras.layers import *\n",
        "from keras.initializers import Constant\n",
        "\n",
        "TIME_STEPS = max_length\n",
        "INPUT_DIM = max_length\n",
        "\n",
        "def attention_3d_block(inputs,TIME_STEPS,n):\n",
        "    # inputs.shape = (batch_size, time_steps, input_dim)\n",
        "    \n",
        "    \n",
        "    a = Permute((2, 1))(inputs)\n",
        "    \n",
        "    a = Dense(int(TIME_STEPS), activation='softmax')(a)\n",
        "    \n",
        "    \n",
        "    a_probs = Permute((2, 1), name='vec'+str(n))(a)\n",
        "  \n",
        "    output_attention_mul = Multiply()([inputs, a_probs])\n",
        "    #output_attention_mul = merge([inputs, a_probs], name='attention_mul', mode='mul')\n",
        "    n+=1\n",
        "    return output_attention_mul\n",
        "\n",
        "\n",
        "def model_attention_applied_after_lstm():\n",
        "    inputs = Input(shape= (INPUT_DIM,))\n",
        "    lstm_units = 64\n",
        "    embedding_layer = Embedding(num_words,\n",
        "                                300,\n",
        "                                embeddings_initializer = Constant(embedding_matrix),\n",
        "                                input_length = max_length,\n",
        "                                trainable=False)\n",
        "    inputs_1 = embedding_layer(inputs)\n",
        "    c1 = Conv1D(64,kernel_size=3,padding='same',activation='relu')(inputs_1)\n",
        "    c2 = Conv1D(64,kernel_size=3,padding='same',activation='relu')(c1)\n",
        "    p1 = MaxPool1D(pool_size=(2))(c2)\n",
        "    d1 = Dropout(0.5)(p1)\n",
        "    TIME_STEPS = d1.shape[1]\n",
        "    #print(TIME_STEPS)\n",
        "    attention_mul = attention_3d_block(d1,TIME_STEPS,0)\n",
        "    #attention_mul = Flatten()(attention_mul)\n",
        "    \n",
        "    g1 = GRU(128, dropout =0.2, recurrent_dropout = 0.2, return_sequences=True)(attention_mul)\n",
        "    #g2 = GRU(128, dropout =0.2, recurrent_dropout = 0.2, return_sequences=True)(g1)\n",
        "    \n",
        "    attention_mul = attention_3d_block(g1,TIME_STEPS,1)\n",
        "    attention_mul = Flatten()(attention_mul)\n",
        "    \n",
        "    output_1 = Dense(128, activation='relu')(attention_mul)\n",
        "    output = Dense(1, activation='sigmoid')(output_1)\n",
        "\n",
        "    \n",
        "    model = Model(input=[inputs], output=output)\n",
        "    return model"
      ],
      "execution_count": null,
      "outputs": []
    },
    {
      "cell_type": "code",
      "metadata": {
        "id": "ZWKC41g5_yws",
        "colab_type": "code",
        "colab": {
          "base_uri": "https://localhost:8080/",
          "height": 55
        },
        "outputId": "163eb710-c3e5-44e9-d9ca-b64a1af14c1a"
      },
      "source": [
        "from keras.optimizers import Adam\n",
        "m = model_attention_applied_after_lstm()\n",
        "\n",
        "m.compile(optimizer=Adam(lr = 0.001), loss='binary_crossentropy', metrics=['accuracy'])"
      ],
      "execution_count": null,
      "outputs": [
        {
          "output_type": "stream",
          "text": [
            "/usr/local/lib/python3.6/dist-packages/ipykernel_launcher.py:53: UserWarning: Update your `Model` call to the Keras 2 API: `Model(inputs=[<tf.Tenso..., outputs=Tensor(\"de...)`\n"
          ],
          "name": "stderr"
        }
      ]
    },
    {
      "cell_type": "code",
      "metadata": {
        "id": "-0WU2CbLCTNr",
        "colab_type": "code",
        "colab": {
          "base_uri": "https://localhost:8080/",
          "height": 832
        },
        "outputId": "bd27cec9-b6c0-4aba-8795-fdf634021326"
      },
      "source": [
        "m.summary()"
      ],
      "execution_count": null,
      "outputs": [
        {
          "output_type": "stream",
          "text": [
            "__________________________________________________________________________________________________\n",
            "Layer (type)                    Output Shape         Param #     Connected to                     \n",
            "==================================================================================================\n",
            "input_34 (InputLayer)           (None, 568)          0                                            \n",
            "__________________________________________________________________________________________________\n",
            "embedding_33 (Embedding)        (None, 568, 300)     71275500    input_34[0][0]                   \n",
            "__________________________________________________________________________________________________\n",
            "conv1d_65 (Conv1D)              (None, 568, 64)      57664       embedding_33[0][0]               \n",
            "__________________________________________________________________________________________________\n",
            "conv1d_66 (Conv1D)              (None, 568, 64)      12352       conv1d_65[0][0]                  \n",
            "__________________________________________________________________________________________________\n",
            "max_pooling1d_28 (MaxPooling1D) (None, 284, 64)      0           conv1d_66[0][0]                  \n",
            "__________________________________________________________________________________________________\n",
            "dropout_33 (Dropout)            (None, 284, 64)      0           max_pooling1d_28[0][0]           \n",
            "__________________________________________________________________________________________________\n",
            "permute_39 (Permute)            (None, 64, 284)      0           dropout_33[0][0]                 \n",
            "__________________________________________________________________________________________________\n",
            "dense_57 (Dense)                (None, 64, 284)      80940       permute_39[0][0]                 \n",
            "__________________________________________________________________________________________________\n",
            "vec0 (Permute)                  (None, 284, 64)      0           dense_57[0][0]                   \n",
            "__________________________________________________________________________________________________\n",
            "multiply_34 (Multiply)          (None, 284, 64)      0           dropout_33[0][0]                 \n",
            "                                                                 vec0[0][0]                       \n",
            "__________________________________________________________________________________________________\n",
            "gru_28 (GRU)                    (None, 284, 128)     74112       multiply_34[0][0]                \n",
            "__________________________________________________________________________________________________\n",
            "gru_29 (GRU)                    (None, 284, 128)     98688       gru_28[0][0]                     \n",
            "__________________________________________________________________________________________________\n",
            "permute_40 (Permute)            (None, 128, 284)     0           gru_29[0][0]                     \n",
            "__________________________________________________________________________________________________\n",
            "dense_58 (Dense)                (None, 128, 284)     80940       permute_40[0][0]                 \n",
            "__________________________________________________________________________________________________\n",
            "vec1 (Permute)                  (None, 284, 128)     0           dense_58[0][0]                   \n",
            "__________________________________________________________________________________________________\n",
            "multiply_35 (Multiply)          (None, 284, 128)     0           gru_29[0][0]                     \n",
            "                                                                 vec1[0][0]                       \n",
            "__________________________________________________________________________________________________\n",
            "flatten_15 (Flatten)            (None, 36352)        0           multiply_35[0][0]                \n",
            "__________________________________________________________________________________________________\n",
            "dense_59 (Dense)                (None, 128)          4653184     flatten_15[0][0]                 \n",
            "__________________________________________________________________________________________________\n",
            "dense_60 (Dense)                (None, 1)            129         dense_59[0][0]                   \n",
            "==================================================================================================\n",
            "Total params: 76,333,509\n",
            "Trainable params: 5,058,009\n",
            "Non-trainable params: 71,275,500\n",
            "__________________________________________________________________________________________________\n"
          ],
          "name": "stdout"
        }
      ]
    },
    {
      "cell_type": "markdown",
      "metadata": {
        "id": "ifvrZY3gXOtJ",
        "colab_type": "text"
      },
      "source": [
        "A secondary model:\n",
        "\n",
        "This is a single model consisting of a combination of Conv1D layers and a LSTM/GRU layer, followed by a dense layer"
      ]
    },
    {
      "cell_type": "code",
      "metadata": {
        "id": "MC-ZfwiTe9i8",
        "colab_type": "code",
        "colab": {}
      },
      "source": [
        "from keras.models import Sequential\n",
        "from keras.layers import Dense,Embedding, CuDNNGRU, SimpleRNN, LSTM, Bidirectional,Conv1D,MaxPooling1D,Dropout,Flatten,MaxPool1D\n",
        "from keras.layers.embeddings import Embedding\n",
        "from keras.initializers import Constant\n",
        "from keras.optimizers import Adam\n",
        "\n",
        "model = Sequential()\n",
        "embedding_layer = Embedding(num_words, EMBEDDING_DIM, embeddings_initializer=Constant(embedding_matrix),\n",
        "                            input_length = max_length, trainable = False)\n",
        "model.add(embedding_layer)\n",
        "model.add(Conv1D(64,kernel_size=3,padding='same',activation='relu'))\n",
        "model.add(Conv1D(64,kernel_size=3,padding='same',activation='relu'))\n",
        "model.add(MaxPool1D(pool_size=(2)))\n",
        "model.add(Dropout(0.5))\n",
        "model.add(CuDNNGRU(128, return_sequences=True))\n",
        "model.add(Dropout(0.5))\n",
        "model.add(Flatten())\n",
        "model.add(Dense(128,activation='relu'))\n",
        "model.add(Dropout(0.5))\n",
        "model.add(Dense(1,activation='sigmoid'))\n",
        "model.compile(optimizer=Adam(lr=0.001),\n",
        "              loss='binary_crossentropy',\n",
        "              metrics=['accuracy'])"
      ],
      "execution_count": null,
      "outputs": []
    },
    {
      "cell_type": "code",
      "metadata": {
        "id": "kkvM-ysljG2U",
        "colab_type": "code",
        "colab": {
          "base_uri": "https://localhost:8080/",
          "height": 35
        },
        "outputId": "6647b510-0abd-41fa-92f4-ea79b677472c"
      },
      "source": [
        "print(embedding_matrix.shape)"
      ],
      "execution_count": null,
      "outputs": [
        {
          "output_type": "stream",
          "text": [
            "(237586, 300)\n"
          ],
          "name": "stdout"
        }
      ]
    },
    {
      "cell_type": "code",
      "metadata": {
        "id": "3mbsw2D1pBXk",
        "colab_type": "code",
        "colab": {}
      },
      "source": [
        "Y_ = np.asarray(Y).reshape(len(Y),1)"
      ],
      "execution_count": null,
      "outputs": []
    },
    {
      "cell_type": "code",
      "metadata": {
        "id": "sxoBMFLJfIJT",
        "colab_type": "code",
        "colab": {
          "base_uri": "https://localhost:8080/",
          "height": 1000
        },
        "outputId": "fc696862-5cdf-4f3a-b400-1be6109c26b0"
      },
      "source": [
        "from keras.callbacks import ModelCheckpoint\n",
        "filepath= \"gdrive/My Drive/Deep Learning/Insult classification/weights-improvement-{epoch:02d}-{val_acc:.2f}.h5\"\n",
        "checkpoint = ModelCheckpoint(filepath, monitor='val_loss', verbose=1, save_best_only=True)\n",
        "callbacks_list = [checkpoint]\n",
        "model.fit(review_pad,Y_,validation_split = 0.2,epochs = 10,batch_size = 128,verbose =1,callbacks = callbacks_list)"
      ],
      "execution_count": null,
      "outputs": [
        {
          "output_type": "stream",
          "text": [
            "Train on 81260 samples, validate on 20315 samples\n",
            "Epoch 1/10\n",
            "81260/81260 [==============================] - 66s 818us/step - loss: 0.5524 - acc: 0.7458 - val_loss: 0.5222 - val_acc: 0.7642\n",
            "\n",
            "Epoch 00001: val_loss improved from inf to 0.52216, saving model to gdrive/My Drive/Deep Learning/Insult classification/weights-improvement-01-0.76.h5\n",
            "Epoch 2/10\n",
            "81260/81260 [==============================] - 64s 786us/step - loss: 0.5278 - acc: 0.7612 - val_loss: 0.5233 - val_acc: 0.7649\n",
            "\n",
            "Epoch 00002: val_loss did not improve from 0.52216\n",
            "Epoch 3/10\n",
            "81260/81260 [==============================] - 64s 785us/step - loss: 0.5194 - acc: 0.7651 - val_loss: 0.5222 - val_acc: 0.7633\n",
            "\n",
            "Epoch 00003: val_loss did not improve from 0.52216\n",
            "Epoch 4/10\n",
            "81260/81260 [==============================] - 64s 785us/step - loss: 0.5107 - acc: 0.7684 - val_loss: 0.5250 - val_acc: 0.7632\n",
            "\n",
            "Epoch 00004: val_loss did not improve from 0.52216\n",
            "Epoch 5/10\n",
            "81260/81260 [==============================] - 64s 785us/step - loss: 0.5007 - acc: 0.7713 - val_loss: 0.5304 - val_acc: 0.7643\n",
            "\n",
            "Epoch 00005: val_loss did not improve from 0.52216\n",
            "Epoch 6/10\n",
            "81260/81260 [==============================] - 64s 786us/step - loss: 0.4882 - acc: 0.7762 - val_loss: 0.5453 - val_acc: 0.7626\n",
            "\n",
            "Epoch 00006: val_loss did not improve from 0.52216\n",
            "Epoch 7/10\n",
            "81260/81260 [==============================] - 64s 787us/step - loss: 0.4750 - acc: 0.7804 - val_loss: 0.5459 - val_acc: 0.7587\n",
            "\n",
            "Epoch 00007: val_loss did not improve from 0.52216\n",
            "Epoch 8/10\n",
            "81260/81260 [==============================] - 64s 784us/step - loss: 0.4614 - acc: 0.7857 - val_loss: 0.5485 - val_acc: 0.7587\n",
            "\n",
            "Epoch 00008: val_loss did not improve from 0.52216\n",
            "Epoch 9/10\n",
            "81260/81260 [==============================] - 64s 784us/step - loss: 0.4460 - acc: 0.7925 - val_loss: 0.5649 - val_acc: 0.7559\n",
            "\n",
            "Epoch 00009: val_loss did not improve from 0.52216\n",
            "Epoch 10/10\n",
            "26880/81260 [========>.....................] - ETA: 39s - loss: 0.4247 - acc: 0.7999"
          ],
          "name": "stdout"
        },
        {
          "output_type": "error",
          "ename": "KeyboardInterrupt",
          "evalue": "ignored",
          "traceback": [
            "\u001b[0;31m---------------------------------------------------------------------------\u001b[0m",
            "\u001b[0;31mKeyboardInterrupt\u001b[0m                         Traceback (most recent call last)",
            "\u001b[0;32m<ipython-input-24-a0586b737e3e>\u001b[0m in \u001b[0;36m<module>\u001b[0;34m()\u001b[0m\n\u001b[1;32m      3\u001b[0m \u001b[0mcheckpoint\u001b[0m \u001b[0;34m=\u001b[0m \u001b[0mModelCheckpoint\u001b[0m\u001b[0;34m(\u001b[0m\u001b[0mfilepath\u001b[0m\u001b[0;34m,\u001b[0m \u001b[0mmonitor\u001b[0m\u001b[0;34m=\u001b[0m\u001b[0;34m'val_loss'\u001b[0m\u001b[0;34m,\u001b[0m \u001b[0mverbose\u001b[0m\u001b[0;34m=\u001b[0m\u001b[0;36m1\u001b[0m\u001b[0;34m,\u001b[0m \u001b[0msave_best_only\u001b[0m\u001b[0;34m=\u001b[0m\u001b[0;32mTrue\u001b[0m\u001b[0;34m)\u001b[0m\u001b[0;34m\u001b[0m\u001b[0;34m\u001b[0m\u001b[0m\n\u001b[1;32m      4\u001b[0m \u001b[0mcallbacks_list\u001b[0m \u001b[0;34m=\u001b[0m \u001b[0;34m[\u001b[0m\u001b[0mcheckpoint\u001b[0m\u001b[0;34m]\u001b[0m\u001b[0;34m\u001b[0m\u001b[0;34m\u001b[0m\u001b[0m\n\u001b[0;32m----> 5\u001b[0;31m \u001b[0mmodel\u001b[0m\u001b[0;34m.\u001b[0m\u001b[0mfit\u001b[0m\u001b[0;34m(\u001b[0m\u001b[0mreview_pad\u001b[0m\u001b[0;34m,\u001b[0m\u001b[0mY_\u001b[0m\u001b[0;34m,\u001b[0m\u001b[0mvalidation_split\u001b[0m \u001b[0;34m=\u001b[0m \u001b[0;36m0.2\u001b[0m\u001b[0;34m,\u001b[0m\u001b[0mepochs\u001b[0m \u001b[0;34m=\u001b[0m \u001b[0;36m10\u001b[0m\u001b[0;34m,\u001b[0m\u001b[0mbatch_size\u001b[0m \u001b[0;34m=\u001b[0m \u001b[0;36m128\u001b[0m\u001b[0;34m,\u001b[0m\u001b[0mverbose\u001b[0m \u001b[0;34m=\u001b[0m\u001b[0;36m1\u001b[0m\u001b[0;34m,\u001b[0m\u001b[0mcallbacks\u001b[0m \u001b[0;34m=\u001b[0m \u001b[0mcallbacks_list\u001b[0m\u001b[0;34m)\u001b[0m\u001b[0;34m\u001b[0m\u001b[0;34m\u001b[0m\u001b[0m\n\u001b[0m",
            "\u001b[0;32m/usr/local/lib/python3.6/dist-packages/keras/engine/training.py\u001b[0m in \u001b[0;36mfit\u001b[0;34m(self, x, y, batch_size, epochs, verbose, callbacks, validation_split, validation_data, shuffle, class_weight, sample_weight, initial_epoch, steps_per_epoch, validation_steps, **kwargs)\u001b[0m\n\u001b[1;32m   1037\u001b[0m                                         \u001b[0minitial_epoch\u001b[0m\u001b[0;34m=\u001b[0m\u001b[0minitial_epoch\u001b[0m\u001b[0;34m,\u001b[0m\u001b[0;34m\u001b[0m\u001b[0;34m\u001b[0m\u001b[0m\n\u001b[1;32m   1038\u001b[0m                                         \u001b[0msteps_per_epoch\u001b[0m\u001b[0;34m=\u001b[0m\u001b[0msteps_per_epoch\u001b[0m\u001b[0;34m,\u001b[0m\u001b[0;34m\u001b[0m\u001b[0;34m\u001b[0m\u001b[0m\n\u001b[0;32m-> 1039\u001b[0;31m                                         validation_steps=validation_steps)\n\u001b[0m\u001b[1;32m   1040\u001b[0m \u001b[0;34m\u001b[0m\u001b[0m\n\u001b[1;32m   1041\u001b[0m     def evaluate(self, x=None, y=None,\n",
            "\u001b[0;32m/usr/local/lib/python3.6/dist-packages/keras/engine/training_arrays.py\u001b[0m in \u001b[0;36mfit_loop\u001b[0;34m(model, f, ins, out_labels, batch_size, epochs, verbose, callbacks, val_f, val_ins, shuffle, callback_metrics, initial_epoch, steps_per_epoch, validation_steps)\u001b[0m\n\u001b[1;32m    197\u001b[0m                     \u001b[0mins_batch\u001b[0m\u001b[0;34m[\u001b[0m\u001b[0mi\u001b[0m\u001b[0;34m]\u001b[0m \u001b[0;34m=\u001b[0m \u001b[0mins_batch\u001b[0m\u001b[0;34m[\u001b[0m\u001b[0mi\u001b[0m\u001b[0;34m]\u001b[0m\u001b[0;34m.\u001b[0m\u001b[0mtoarray\u001b[0m\u001b[0;34m(\u001b[0m\u001b[0;34m)\u001b[0m\u001b[0;34m\u001b[0m\u001b[0;34m\u001b[0m\u001b[0m\n\u001b[1;32m    198\u001b[0m \u001b[0;34m\u001b[0m\u001b[0m\n\u001b[0;32m--> 199\u001b[0;31m                 \u001b[0mouts\u001b[0m \u001b[0;34m=\u001b[0m \u001b[0mf\u001b[0m\u001b[0;34m(\u001b[0m\u001b[0mins_batch\u001b[0m\u001b[0;34m)\u001b[0m\u001b[0;34m\u001b[0m\u001b[0;34m\u001b[0m\u001b[0m\n\u001b[0m\u001b[1;32m    200\u001b[0m                 \u001b[0mouts\u001b[0m \u001b[0;34m=\u001b[0m \u001b[0mto_list\u001b[0m\u001b[0;34m(\u001b[0m\u001b[0mouts\u001b[0m\u001b[0;34m)\u001b[0m\u001b[0;34m\u001b[0m\u001b[0;34m\u001b[0m\u001b[0m\n\u001b[1;32m    201\u001b[0m                 \u001b[0;32mfor\u001b[0m \u001b[0ml\u001b[0m\u001b[0;34m,\u001b[0m \u001b[0mo\u001b[0m \u001b[0;32min\u001b[0m \u001b[0mzip\u001b[0m\u001b[0;34m(\u001b[0m\u001b[0mout_labels\u001b[0m\u001b[0;34m,\u001b[0m \u001b[0mouts\u001b[0m\u001b[0;34m)\u001b[0m\u001b[0;34m:\u001b[0m\u001b[0;34m\u001b[0m\u001b[0;34m\u001b[0m\u001b[0m\n",
            "\u001b[0;32m/usr/local/lib/python3.6/dist-packages/keras/backend/tensorflow_backend.py\u001b[0m in \u001b[0;36m__call__\u001b[0;34m(self, inputs)\u001b[0m\n\u001b[1;32m   2713\u001b[0m                 \u001b[0;32mreturn\u001b[0m \u001b[0mself\u001b[0m\u001b[0;34m.\u001b[0m\u001b[0m_legacy_call\u001b[0m\u001b[0;34m(\u001b[0m\u001b[0minputs\u001b[0m\u001b[0;34m)\u001b[0m\u001b[0;34m\u001b[0m\u001b[0;34m\u001b[0m\u001b[0m\n\u001b[1;32m   2714\u001b[0m \u001b[0;34m\u001b[0m\u001b[0m\n\u001b[0;32m-> 2715\u001b[0;31m             \u001b[0;32mreturn\u001b[0m \u001b[0mself\u001b[0m\u001b[0;34m.\u001b[0m\u001b[0m_call\u001b[0m\u001b[0;34m(\u001b[0m\u001b[0minputs\u001b[0m\u001b[0;34m)\u001b[0m\u001b[0;34m\u001b[0m\u001b[0;34m\u001b[0m\u001b[0m\n\u001b[0m\u001b[1;32m   2716\u001b[0m         \u001b[0;32melse\u001b[0m\u001b[0;34m:\u001b[0m\u001b[0;34m\u001b[0m\u001b[0;34m\u001b[0m\u001b[0m\n\u001b[1;32m   2717\u001b[0m             \u001b[0;32mif\u001b[0m \u001b[0mpy_any\u001b[0m\u001b[0;34m(\u001b[0m\u001b[0mis_tensor\u001b[0m\u001b[0;34m(\u001b[0m\u001b[0mx\u001b[0m\u001b[0;34m)\u001b[0m \u001b[0;32mfor\u001b[0m \u001b[0mx\u001b[0m \u001b[0;32min\u001b[0m \u001b[0minputs\u001b[0m\u001b[0;34m)\u001b[0m\u001b[0;34m:\u001b[0m\u001b[0;34m\u001b[0m\u001b[0;34m\u001b[0m\u001b[0m\n",
            "\u001b[0;32m/usr/local/lib/python3.6/dist-packages/keras/backend/tensorflow_backend.py\u001b[0m in \u001b[0;36m_call\u001b[0;34m(self, inputs)\u001b[0m\n\u001b[1;32m   2673\u001b[0m             \u001b[0mfetched\u001b[0m \u001b[0;34m=\u001b[0m \u001b[0mself\u001b[0m\u001b[0;34m.\u001b[0m\u001b[0m_callable_fn\u001b[0m\u001b[0;34m(\u001b[0m\u001b[0;34m*\u001b[0m\u001b[0marray_vals\u001b[0m\u001b[0;34m,\u001b[0m \u001b[0mrun_metadata\u001b[0m\u001b[0;34m=\u001b[0m\u001b[0mself\u001b[0m\u001b[0;34m.\u001b[0m\u001b[0mrun_metadata\u001b[0m\u001b[0;34m)\u001b[0m\u001b[0;34m\u001b[0m\u001b[0;34m\u001b[0m\u001b[0m\n\u001b[1;32m   2674\u001b[0m         \u001b[0;32melse\u001b[0m\u001b[0;34m:\u001b[0m\u001b[0;34m\u001b[0m\u001b[0;34m\u001b[0m\u001b[0m\n\u001b[0;32m-> 2675\u001b[0;31m             \u001b[0mfetched\u001b[0m \u001b[0;34m=\u001b[0m \u001b[0mself\u001b[0m\u001b[0;34m.\u001b[0m\u001b[0m_callable_fn\u001b[0m\u001b[0;34m(\u001b[0m\u001b[0;34m*\u001b[0m\u001b[0marray_vals\u001b[0m\u001b[0;34m)\u001b[0m\u001b[0;34m\u001b[0m\u001b[0;34m\u001b[0m\u001b[0m\n\u001b[0m\u001b[1;32m   2676\u001b[0m         \u001b[0;32mreturn\u001b[0m \u001b[0mfetched\u001b[0m\u001b[0;34m[\u001b[0m\u001b[0;34m:\u001b[0m\u001b[0mlen\u001b[0m\u001b[0;34m(\u001b[0m\u001b[0mself\u001b[0m\u001b[0;34m.\u001b[0m\u001b[0moutputs\u001b[0m\u001b[0;34m)\u001b[0m\u001b[0;34m]\u001b[0m\u001b[0;34m\u001b[0m\u001b[0;34m\u001b[0m\u001b[0m\n\u001b[1;32m   2677\u001b[0m \u001b[0;34m\u001b[0m\u001b[0m\n",
            "\u001b[0;32m/usr/local/lib/python3.6/dist-packages/tensorflow/python/client/session.py\u001b[0m in \u001b[0;36m__call__\u001b[0;34m(self, *args, **kwargs)\u001b[0m\n\u001b[1;32m   1456\u001b[0m         ret = tf_session.TF_SessionRunCallable(self._session._session,\n\u001b[1;32m   1457\u001b[0m                                                \u001b[0mself\u001b[0m\u001b[0;34m.\u001b[0m\u001b[0m_handle\u001b[0m\u001b[0;34m,\u001b[0m \u001b[0margs\u001b[0m\u001b[0;34m,\u001b[0m\u001b[0;34m\u001b[0m\u001b[0;34m\u001b[0m\u001b[0m\n\u001b[0;32m-> 1458\u001b[0;31m                                                run_metadata_ptr)\n\u001b[0m\u001b[1;32m   1459\u001b[0m         \u001b[0;32mif\u001b[0m \u001b[0mrun_metadata\u001b[0m\u001b[0;34m:\u001b[0m\u001b[0;34m\u001b[0m\u001b[0;34m\u001b[0m\u001b[0m\n\u001b[1;32m   1460\u001b[0m           \u001b[0mproto_data\u001b[0m \u001b[0;34m=\u001b[0m \u001b[0mtf_session\u001b[0m\u001b[0;34m.\u001b[0m\u001b[0mTF_GetBuffer\u001b[0m\u001b[0;34m(\u001b[0m\u001b[0mrun_metadata_ptr\u001b[0m\u001b[0;34m)\u001b[0m\u001b[0;34m\u001b[0m\u001b[0;34m\u001b[0m\u001b[0m\n",
            "\u001b[0;31mKeyboardInterrupt\u001b[0m: "
          ]
        }
      ]
    },
    {
      "cell_type": "code",
      "metadata": {
        "id": "R2pa1Q2eNd2C",
        "colab_type": "code",
        "colab": {}
      },
      "source": [
        "model.save('gdrive/My Drive/Deep Learning/Insult classification/weights-improvement-epoch:02-val_acc:.76.h5')"
      ],
      "execution_count": null,
      "outputs": []
    },
    {
      "cell_type": "code",
      "metadata": {
        "id": "RRkZ7oLW27wy",
        "colab_type": "code",
        "colab": {}
      },
      "source": [
        "from keras.models import load_model\n",
        "model_best = load_model('gdrive/My Drive/Deep Learning/Insult classification/weights-improvement-04-0.76.h5')"
      ],
      "execution_count": null,
      "outputs": []
    },
    {
      "cell_type": "code",
      "metadata": {
        "id": "9CJDAoLP19WJ",
        "colab_type": "code",
        "colab": {}
      },
      "source": [
        "sequences = tokenizer_obj.texts_to_sequences(test_reviews)\n",
        "review_pad = pad_sequences(sequences,maxlen= max_length)"
      ],
      "execution_count": null,
      "outputs": []
    },
    {
      "cell_type": "code",
      "metadata": {
        "id": "Ws2cc-0pfO9z",
        "colab_type": "code",
        "colab": {}
      },
      "source": [
        "'''test_id = df_test[\"id\"].values\n",
        "output = model_best.predict(review_pad, verbose=1, batch_size=128)\n",
        "output = [l[0] for l in output]'''\n",
        "for i in range(len(output)):\n",
        "  if output[i]<0.10:\n",
        "    output[i]=0.10\n",
        "  elif output[i]>0.9:\n",
        "    output[i] = 0.9\n",
        "out_df = pd.DataFrame(list(zip(test_id, output)), columns =['id', 'Prediction'])\n",
        "out_df.to_csv(\"gdrive/My Drive/Deep Learning/Insult classification/output.csv\")"
      ],
      "execution_count": null,
      "outputs": []
    },
    {
      "cell_type": "code",
      "metadata": {
        "id": "T6-FCJr43uYe",
        "colab_type": "code",
        "colab": {
          "base_uri": "https://localhost:8080/",
          "height": 35
        },
        "outputId": "3b6d9f31-f676-4c3e-8936-e28a241a9571"
      },
      "source": [
        "output[0]"
      ],
      "execution_count": null,
      "outputs": [
        {
          "output_type": "execute_result",
          "data": {
            "text/plain": [
              "0.2975562"
            ]
          },
          "metadata": {
            "tags": []
          },
          "execution_count": 38
        }
      ]
    },
    {
      "cell_type": "code",
      "metadata": {
        "id": "PjZE5HNe5k2o",
        "colab_type": "code",
        "colab": {
          "base_uri": "https://localhost:8080/",
          "height": 35
        },
        "outputId": "2ee982ff-6455-4a9b-9052-00719d28cb22"
      },
      "source": [
        "len(test_id)"
      ],
      "execution_count": null,
      "outputs": [
        {
          "output_type": "execute_result",
          "data": {
            "text/plain": [
              "73556"
            ]
          },
          "metadata": {
            "tags": []
          },
          "execution_count": 35
        }
      ]
    },
    {
      "cell_type": "code",
      "metadata": {
        "id": "cLwX6ZVY5nh1",
        "colab_type": "code",
        "colab": {
          "base_uri": "https://localhost:8080/",
          "height": 69
        },
        "outputId": "12eafb6b-0155-4cb5-82d4-8a217eea3b2b"
      },
      "source": [
        "df_test.loc[0]"
      ],
      "execution_count": null,
      "outputs": [
        {
          "output_type": "execute_result",
          "data": {
            "text/plain": [
              "id                                                    163224\n",
              "Comment    : Maybe they want, but they aren't. I have quo...\n",
              "Name: 0, dtype: object"
            ]
          },
          "metadata": {
            "tags": []
          },
          "execution_count": 42
        }
      ]
    },
    {
      "cell_type": "code",
      "metadata": {
        "id": "j2ZJiZOQ9hbM",
        "colab_type": "code",
        "colab": {}
      },
      "source": [
        ""
      ],
      "execution_count": null,
      "outputs": []
    }
  ]
}